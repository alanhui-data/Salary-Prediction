{
 "cells": [
  {
   "cell_type": "code",
   "execution_count": 1,
   "metadata": {
    "collapsed": true
   },
   "outputs": [],
   "source": [
    "# Import\n",
    "import numpy as np\n",
    "import pandas as pd\n",
    "from sklearn import preprocessing\n",
    "from sklearn.model_selection import KFold\n",
    "from sklearn.ensemble import RandomForestClassifier, AdaBoostClassifier, GradientBoostingClassifier\n",
    "\n",
    "# visualization\n",
    "import seaborn as sns\n",
    "import matplotlib.pyplot as plt\n",
    "%matplotlib inline"
   ]
  },
  {
   "cell_type": "code",
   "execution_count": 2,
   "metadata": {
    "collapsed": true
   },
   "outputs": [],
   "source": [
    "# Acquire Data\n",
    "# The training features contain blank space, trim when loading in\n",
    "train_features = pd.read_csv('data/trainFeatures.csv', header=0, skipinitialspace=True)\n",
    "train_labels = pd.read_csv('data/trainLabels.csv', names=['over50'], header=None)\n",
    "test_features = pd.read_csv('data/testFeatures.csv', header=0)\n",
    "\n",
    "train_df = train_features.join(train_labels)"
   ]
  },
  {
   "cell_type": "code",
   "execution_count": 3,
   "metadata": {
    "scrolled": true
   },
   "outputs": [
    {
     "name": "stdout",
     "output_type": "stream",
     "text": [
      "                age        fnlwgt  education-num  capital-gain  capital-loss  \\\n",
      "count  34189.000000  3.418900e+04   34189.000000  34189.000000  34189.000000   \n",
      "mean      38.646143  1.897921e+05      10.077101   1073.523765     87.645442   \n",
      "std       13.679417  1.054070e+05       2.565457   7451.485819    403.366678   \n",
      "min       17.000000  1.228500e+04       1.000000      0.000000      0.000000   \n",
      "25%       28.000000  1.178470e+05       9.000000      0.000000      0.000000   \n",
      "50%       37.000000  1.784490e+05      10.000000      0.000000      0.000000   \n",
      "75%       48.000000  2.376240e+05      12.000000      0.000000      0.000000   \n",
      "max       90.000000  1.490400e+06      16.000000  99999.000000   4356.000000   \n",
      "\n",
      "       hours-per-week  \n",
      "count    34189.000000  \n",
      "mean        40.452836  \n",
      "std         12.482635  \n",
      "min          1.000000  \n",
      "25%         40.000000  \n",
      "50%         40.000000  \n",
      "75%         45.000000  \n",
      "max         99.000000  \n"
     ]
    }
   ],
   "source": [
    "# distribution of numerical feature\n",
    "print(train_features.describe())"
   ]
  },
  {
   "cell_type": "markdown",
   "metadata": {},
   "source": [
    "# Data Analysis on Numeric Fields"
   ]
  },
  {
   "cell_type": "code",
   "execution_count": 4,
   "metadata": {
    "scrolled": true
   },
   "outputs": [
    {
     "data": {
      "text/plain": [
       "<seaborn.axisgrid.FacetGrid at 0x1e034f19898>"
      ]
     },
     "execution_count": 4,
     "metadata": {},
     "output_type": "execute_result"
    },
    {
     "data": {
      "image/png": "[encoded data removed]",
      "text/plain": [
       "<matplotlib.figure.Figure at 0x1e034f199e8>"
      ]
     },
     "metadata": {},
     "output_type": "display_data"
    }
   ],
   "source": [
    "g = sns.FacetGrid(train_df, col='over50')\n",
    "g.map(plt.hist, 'age', bins=20)"
   ]
  },
  {
   "cell_type": "code",
   "execution_count": 5,
   "metadata": {},
   "outputs": [
    {
     "data": {
      "text/plain": [
       "<seaborn.axisgrid.FacetGrid at 0x1e031035898>"
      ]
     },
     "execution_count": 5,
     "metadata": {},
     "output_type": "execute_result"
    },
    {
     "data": {
      "image/png": "[encoded data removed]",
      "text/plain": [
       "<matplotlib.figure.Figure at 0x1e035201438>"
      ]
     },
     "metadata": {},
     "output_type": "display_data"
    }
   ],
   "source": [
    "g = sns.FacetGrid(train_df[train_df['capital-gain'] > 0], col='over50')\n",
    "g.map(plt.hist, 'capital-gain', bins=20)"
   ]
  },
  {
   "cell_type": "code",
   "execution_count": 6,
   "metadata": {},
   "outputs": [
    {
     "data": {
      "text/plain": [
       "<seaborn.axisgrid.FacetGrid at 0x1e034fee1d0>"
      ]
     },
     "execution_count": 6,
     "metadata": {},
     "output_type": "execute_result"
    },
    {
     "data": {
      "image/png": "[encoded data removed]",
      "text/plain": [
       "<matplotlib.figure.Figure at 0x1e034fee9b0>"
      ]
     },
     "metadata": {},
     "output_type": "display_data"
    }
   ],
   "source": [
    "g = sns.FacetGrid(train_df[train_df['capital-loss'] > 0], col='over50')\n",
    "g.map(plt.hist, 'capital-loss', bins=20)"
   ]
  },
  {
   "cell_type": "code",
   "execution_count": 7,
   "metadata": {},
   "outputs": [
    {
     "data": {
      "text/plain": [
       "<seaborn.axisgrid.FacetGrid at 0x1e035566c18>"
      ]
     },
     "execution_count": 7,
     "metadata": {},
     "output_type": "execute_result"
    },
    {
     "data": {
      "image/png": "[encoded data removed]",
      "text/plain": [
       "<matplotlib.figure.Figure at 0x1e03550bda0>"
      ]
     },
     "metadata": {},
     "output_type": "display_data"
    }
   ],
   "source": [
    "g = sns.FacetGrid(train_df[train_df['hours-per-week'] > 0], col='over50')\n",
    "g.map(plt.hist, 'hours-per-week', bins=20)"
   ]
  },
  {
   "cell_type": "markdown",
   "metadata": {},
   "source": [
    "Conclutions:\n",
    "   \n",
    "    1. Age\n",
    "    For over 50K, we can see a kind of normal distribution on the age.  It makes sense as the earning power should be the highest for those people in the mid to senior level of their career.  The earning power tends to drop after retirement.\n",
    "    For below 50K, the graph reflects that most of younger people does not earn high income while only a few outstanding young man is able to earn over 50K.\n",
    "    \n",
    "    2. Capital Gain and Loss\n",
    "    As majority of people do not invest, it is necessary to remove 0 before we can have meaningful graph.  Obviously, people who invest (may be due to higher education background) tends to have higher income.\n",
    "    \n",
    "    3. Working hours\n",
    "    No clear relationship can be found\n",
    "    \n",
    "    4. education-num\n",
    "    It is more a category field presented in numeric form.\n",
    "    "
   ]
  },
  {
   "cell_type": "markdown",
   "metadata": {},
   "source": [
    "# Data Analysis on Categorial Fields"
   ]
  },
  {
   "cell_type": "code",
   "execution_count": 8,
   "metadata": {},
   "outputs": [
    {
     "name": "stdout",
     "output_type": "stream",
     "text": [
      "       workclass education      Marital-status      occupation relationship  \\\n",
      "count      34189     34189               34189           34189        34189   \n",
      "unique         9        16                   7              15            6   \n",
      "top      Private   HS-grad  Married-civ-spouse  Prof-specialty      Husband   \n",
      "freq       23702     11079               15708            4323        13811   \n",
      "\n",
      "         race    sex native-country  \n",
      "count   34189  34189          34189  \n",
      "unique      5      2             42  \n",
      "top     White   Male  United-States  \n",
      "freq    29199  22874          30722  \n"
     ]
    }
   ],
   "source": [
    "# distribution of categorial feature\n",
    "print(train_features.describe(include=['O']))"
   ]
  },
  {
   "cell_type": "code",
   "execution_count": 9,
   "metadata": {},
   "outputs": [
    {
     "name": "stdout",
     "output_type": "stream",
     "text": [
      "                  workclass    over50\n",
      "workclass                            \n",
      "Self-emp-inc           1192  0.550336\n",
      "Federal-gov             995  0.389950\n",
      "Local-gov              2218  0.297565\n",
      "Self-emp-not-inc       2713  0.270181\n",
      "State-gov              1393  0.262742\n",
      "Private               23702  0.218336\n",
      "?                      1950  0.096923\n",
      "Without-pay              16  0.062500\n",
      "Never-worked             10  0.000000\n",
      "                       Marital-status    over50\n",
      "Marital-status                                 \n",
      "Married-civ-spouse              15708  0.445569\n",
      "Married-AF-spouse                  29  0.344828\n",
      "Divorced                         4562  0.099737\n",
      "Married-spouse-absent             432  0.090278\n",
      "Widowed                          1096  0.084854\n",
      "Separated                        1065  0.062911\n",
      "Never-married                   11297  0.044702\n",
      "                   Marital-status    over50\n",
      "occupation                                 \n",
      "Exec-managerial              4285  0.476313\n",
      "Prof-specialty               4323  0.451307\n",
      "Armed-Forces                    9  0.333333\n",
      "Protective-serv               700  0.320000\n",
      "Tech-support                  982  0.284114\n",
      "Sales                        3852  0.270249\n",
      "Craft-repair                 4244  0.221254\n",
      "Transport-moving             1672  0.194378\n",
      "Adm-clerical                 3977  0.139301\n",
      "Machine-op-inspct            2094  0.120344\n",
      "Farming-fishing              1084  0.113469\n",
      "?                            1960  0.096429\n",
      "Handlers-cleaners            1432  0.065642\n",
      "Other-service                3407  0.044027\n",
      "Priv-house-serv               168  0.017857\n",
      "                Marital-status    over50\n",
      "relationship                            \n",
      "Wife                      1648  0.474515\n",
      "Husband                  13811  0.447469\n",
      "Not-in-family             8750  0.099543\n",
      "Unmarried                 3591  0.059872\n",
      "Other-relative            1055  0.036019\n",
      "Own-child                 5334  0.015373\n",
      "                    Marital-status    over50\n",
      "race                                        \n",
      "Asian-Pac-Islander            1053  0.277303\n",
      "White                        29199  0.253262\n",
      "Other                          284  0.130282\n",
      "Black                         3321  0.122855\n",
      "Amer-Indian-Eskimo             332  0.108434\n",
      "        Marital-status    over50\n",
      "sex                             \n",
      "Male             22874  0.301303\n",
      "Female           11315  0.112771\n",
      "                            Marital-status    over50\n",
      "native-country                                      \n",
      "Taiwan                                  47  0.425532\n",
      "France                                  30  0.400000\n",
      "Greece                                  35  0.400000\n",
      "Japan                                   56  0.392857\n",
      "Iran                                    41  0.390244\n",
      "England                                 89  0.382022\n",
      "Cambodia                                21  0.380952\n",
      "India                                  107  0.364486\n",
      "Canada                                 129  0.341085\n",
      "Italy                                   71  0.338028\n",
      "China                                   79  0.303797\n",
      "Philippines                            208  0.302885\n",
      "Germany                                152  0.276316\n",
      "?                                      589  0.269949\n",
      "Yugoslavia                              15  0.266667\n",
      "United-States                        30722  0.243409\n",
      "Ireland                                 21  0.238095\n",
      "Hong                                    22  0.227273\n",
      "Cuba                                   100  0.220000\n",
      "Hungary                                 14  0.214286\n",
      "Thailand                                19  0.210526\n",
      "Portugal                                51  0.176471\n",
      "Scotland                                13  0.153846\n",
      "Poland                                  60  0.150000\n",
      "South                                   82  0.146341\n",
      "Laos                                    14  0.142857\n",
      "Jamaica                                 70  0.128571\n",
      "Haiti                                   47  0.127660\n",
      "Puerto-Rico                            127  0.118110\n",
      "Ecuador                                 27  0.111111\n",
      "Peru                                    28  0.107143\n",
      "El-Salvador                            100  0.090000\n",
      "Vietnam                                 50  0.080000\n",
      "Honduras                                14  0.071429\n",
      "Nicaragua                               32  0.062500\n",
      "Outlying-US(Guam-USVI-etc)              17  0.058824\n",
      "Dominican-Republic                      75  0.053333\n",
      "Columbia                                61  0.049180\n",
      "Trinadad&Tobago                         22  0.045455\n",
      "Mexico                                 669  0.043348\n",
      "Guatemala                               62  0.032258\n",
      "Holand-Netherlands                       1  0.000000\n"
     ]
    }
   ],
   "source": [
    "print(train_df.groupby(['workclass']).agg({'workclass':'count','over50':'mean'}).sort_values(['over50'], ascending=False) )\n",
    "print(train_df.groupby(['Marital-status']).agg({'Marital-status':'count','over50':'mean'}).sort_values(['over50'], ascending=False) )\n",
    "print(train_df.groupby(['occupation']).agg({'Marital-status':'count','over50':'mean'}).sort_values(['over50'], ascending=False) )\n",
    "print(train_df.groupby(['relationship']).agg({'Marital-status':'count','over50':'mean'}).sort_values(['over50'], ascending=False) )\n",
    "print(train_df.groupby(['race']).agg({'Marital-status':'count','over50':'mean'}).sort_values(['over50'], ascending=False) )\n",
    "print(train_df.groupby(['sex']).agg({'Marital-status':'count','over50':'mean'}).sort_values(['over50'], ascending=False) )\n",
    "print(train_df.groupby(['native-country']).agg({'Marital-status':'count','over50':'mean'}).sort_values(['over50'], ascending=False) )\n"
   ]
  },
  {
   "cell_type": "markdown",
   "metadata": {},
   "source": [
    "Conclutions:\n",
    "   \n",
    "    1. Workclass\n",
    "    Majority of the people are grouped under Private.  Note that there are few samples with missing data marked '?'. \n",
    "    \n",
    "    2. Occupation\n",
    "    There is a clear correlation between occupation and the income.  The occupation requires higher education background tends to earn higher income.\n",
    "    \n",
    "    3. Missing Data\n",
    "    '?' can be found in workclass, occupation and native-country\n",
    "    "
   ]
  },
  {
   "cell_type": "markdown",
   "metadata": {},
   "source": [
    "# Correlation Analysis on All Fields"
   ]
  },
  {
   "cell_type": "code",
   "execution_count": 10,
   "metadata": {
    "collapsed": true
   },
   "outputs": [],
   "source": [
    "# Encode all the categorial fields to number fields first\n",
    "train_features[['workclass']]=train_features[['workclass']].apply(preprocessing.LabelEncoder().fit_transform)\n",
    "train_features[['Marital-status']]=train_features[['Marital-status']].apply(preprocessing.LabelEncoder().fit_transform)\n",
    "train_features[['occupation']]=train_features[['occupation']].apply(preprocessing.LabelEncoder().fit_transform)\n",
    "train_features[['relationship']]=train_features[['relationship']].apply(preprocessing.LabelEncoder().fit_transform)\n",
    "train_features[['race']]=train_features[['race']].apply(preprocessing.LabelEncoder().fit_transform)\n",
    "train_features[['sex']]=train_features[['sex']].apply(preprocessing.LabelEncoder().fit_transform)\n",
    "train_features[['native-country']]=train_features[['native-country']].apply(preprocessing.LabelEncoder().fit_transform)\n",
    "train_features[['education']]=train_features[['education']].apply(preprocessing.LabelEncoder().fit_transform)"
   ]
  },
  {
   "cell_type": "code",
   "execution_count": 11,
   "metadata": {},
   "outputs": [
    {
     "data": {
      "image/png": "[encoded data removed]",
      "text/plain": [
       "<matplotlib.figure.Figure at 0x1e035538438>"
      ]
     },
     "metadata": {},
     "output_type": "display_data"
    }
   ],
   "source": [
    "# Plot correlation using heatmap\n",
    "sns.heatmap(train_features.corr(), square=True, center=1)\n",
    "plt.show()"
   ]
  },
  {
   "cell_type": "markdown",
   "metadata": {},
   "source": [
    "Decision:\n",
    "    1. We can see that education and education-num are highly correlated.  After checking the data content, we know that education-num is just numeric representation of education.  So it is safe to drop education. "
   ]
  },
  {
   "cell_type": "markdown",
   "metadata": {},
   "source": [
    "# Machine Learning (Baseline)\n",
    "\n",
    "Without tunning the data, we first run the ensemble algorithms as baseline result.\n",
    "We will run 3 types of ensemble algorithms:\n",
    "1. RandomForestClassifier\n",
    "2. AdaBoostClassifier\n",
    "3. GradientBoostingClassifier"
   ]
  },
  {
   "cell_type": "code",
   "execution_count": 12,
   "metadata": {
    "collapsed": true
   },
   "outputs": [],
   "source": [
    "# Setup K-Fold\n",
    "num_folds = 5\n",
    "\n",
    "kf = KFold(n_splits=num_folds, random_state=None, shuffle=True)"
   ]
  },
  {
   "cell_type": "code",
   "execution_count": 13,
   "metadata": {},
   "outputs": [
    {
     "name": "stdout",
     "output_type": "stream",
     "text": [
      "0 Fold:: Training Accuracy: 0.988629, Test Accuracy: 0.850980\n",
      "1 Fold:: Training Accuracy: 0.988812, Test Accuracy: 0.846885\n",
      "2 Fold:: Training Accuracy: 0.987862, Test Accuracy: 0.846446\n",
      "3 Fold:: Training Accuracy: 0.987752, Test Accuracy: 0.856245\n",
      "4 Fold:: Training Accuracy: 0.990202, Test Accuracy: 0.847301\n",
      "RandomForestClassifier:\n",
      "Average Training Accuracy : 0.988651\n",
      "Average Test Accuracy : 0.849571\n",
      "======================================================================\n"
     ]
    }
   ],
   "source": [
    "# RandomForestClassifier\n",
    "cv = 0\n",
    "accum_test_accuracy = 0\n",
    "accum_train_accuracy = 0\n",
    "\n",
    "for tr, tst in kf.split(train_features):\n",
    "    #print(\"TRAIN:\", tr, \"TEST:\", tst)\n",
    "    #Train Test Split\n",
    "    training_x, test_x = train_features.iloc[tr], train_features.iloc[tst]\n",
    "    training_y, test_y = train_labels.iloc[tr], train_labels.iloc[tst]\n",
    "\n",
    "    rf = RandomForestClassifier()\n",
    "    rf.fit(training_x,training_y.values.ravel())\n",
    "\n",
    "    # Measuring training and test accuracy\n",
    "    tr_accuracy = rf.score(training_x,training_y)\n",
    "    test_accuracy = rf.score(test_x, test_y)\n",
    "\n",
    "    print (\"%d Fold:: Training Accuracy: %3f, Test Accuracy: %3f\" % (\n",
    "        cv, tr_accuracy, test_accuracy))\n",
    "    accum_test_accuracy += test_accuracy\n",
    "    accum_train_accuracy += tr_accuracy\n",
    "    cv += 1\n",
    "\n",
    "print (\"RandomForestClassifier:\")\n",
    "print (\"Average Training Accuracy : %3f\" % (accum_train_accuracy/num_folds))\n",
    "print (\"Average Test Accuracy : %3f\" % (accum_test_accuracy/num_folds))\n",
    "print (70 * '=')"
   ]
  },
  {
   "cell_type": "code",
   "execution_count": 14,
   "metadata": {},
   "outputs": [
    {
     "name": "stdout",
     "output_type": "stream",
     "text": [
      "0 Fold:: Training Accuracy: 0.859310, Test Accuracy: 0.862094\n",
      "1 Fold:: Training Accuracy: 0.859164, Test Accuracy: 0.863410\n",
      "2 Fold:: Training Accuracy: 0.862564, Test Accuracy: 0.855806\n",
      "3 Fold:: Training Accuracy: 0.860956, Test Accuracy: 0.858438\n",
      "4 Fold:: Training Accuracy: 0.861473, Test Accuracy: 0.857540\n",
      "AdaBoostClassifier:\n",
      "Average Training Accuracy : 0.860693\n",
      "Average Test Accuracy : 0.859458\n",
      "======================================================================\n"
     ]
    }
   ],
   "source": [
    "# AdaBoostClassifier\n",
    "cv = 0\n",
    "accum_test_accuracy = 0\n",
    "accum_train_accuracy = 0\n",
    "\n",
    "for tr, tst in kf.split(train_features):\n",
    "    #print(\"TRAIN:\", tr, \"TEST:\", tst)\n",
    "    #Train Test Split\n",
    "    training_x, test_x = train_features.iloc[tr], train_features.iloc[tst]\n",
    "    training_y, test_y = train_labels.iloc[tr], train_labels.iloc[tst]\n",
    "\n",
    "    rf = AdaBoostClassifier()\n",
    "    rf.fit(training_x,training_y.values.ravel())\n",
    "\n",
    "    # Measuring training and test accuracy\n",
    "    tr_accuracy = rf.score(training_x,training_y)\n",
    "    test_accuracy = rf.score(test_x, test_y)\n",
    "\n",
    "    print (\"%d Fold:: Training Accuracy: %3f, Test Accuracy: %3f\" % (\n",
    "        cv, tr_accuracy, test_accuracy))\n",
    "    accum_test_accuracy += test_accuracy\n",
    "    accum_train_accuracy += tr_accuracy\n",
    "    cv += 1\n",
    "\n",
    "print (\"AdaBoostClassifier:\")\n",
    "print (\"Average Training Accuracy : %3f\" % (accum_train_accuracy/num_folds))\n",
    "print (\"Average Test Accuracy : %3f\" % (accum_test_accuracy/num_folds))\n",
    "print (70 * '=')"
   ]
  },
  {
   "cell_type": "code",
   "execution_count": 15,
   "metadata": {},
   "outputs": [
    {
     "name": "stdout",
     "output_type": "stream",
     "text": [
      "0 Fold:: Training Accuracy: 0.860590, Test Accuracy: 0.863849\n",
      "1 Fold:: Training Accuracy: 0.860188, Test Accuracy: 0.860339\n",
      "2 Fold:: Training Accuracy: 0.860224, Test Accuracy: 0.862387\n",
      "3 Fold:: Training Accuracy: 0.862967, Test Accuracy: 0.855221\n",
      "4 Fold:: Training Accuracy: 0.862240, Test Accuracy: 0.861489\n",
      "GradientBoostingClassifier:\n",
      "Average Training Accuracy : 0.861242\n",
      "Average Test Accuracy : 0.860657\n",
      "======================================================================\n"
     ]
    }
   ],
   "source": [
    "# GradientBoostingClassifier\n",
    "cv = 0\n",
    "accum_test_accuracy = 0\n",
    "accum_train_accuracy = 0\n",
    "\n",
    "for tr, tst in kf.split(train_features):\n",
    "    #print(\"TRAIN:\", tr, \"TEST:\", tst)\n",
    "    #Train Test Split\n",
    "    training_x, test_x = train_features.iloc[tr], train_features.iloc[tst]\n",
    "    training_y, test_y = train_labels.iloc[tr], train_labels.iloc[tst]\n",
    "\n",
    "    rf = AdaBoostClassifier()\n",
    "    rf.fit(training_x,training_y.values.ravel())\n",
    "\n",
    "    # Measuring training and test accuracy\n",
    "    tr_accuracy = rf.score(training_x,training_y)\n",
    "    test_accuracy = rf.score(test_x, test_y)\n",
    "\n",
    "    print (\"%d Fold:: Training Accuracy: %3f, Test Accuracy: %3f\" % (\n",
    "        cv, tr_accuracy, test_accuracy))\n",
    "    accum_test_accuracy += test_accuracy\n",
    "    accum_train_accuracy += tr_accuracy\n",
    "    cv += 1\n",
    "\n",
    "print (\"GradientBoostingClassifier:\")\n",
    "print (\"Average Training Accuracy : %3f\" % (accum_train_accuracy/num_folds))\n",
    "print (\"Average Test Accuracy : %3f\" % (accum_test_accuracy/num_folds))\n",
    "print (70 * '=')"
   ]
  },
  {
   "cell_type": "markdown",
   "metadata": {},
   "source": [
    "Conclustion:\n",
    "    1. RandomForest has high training accuracy.  It is due to the nature of radom forest.  It tends to overfit training data set.\n",
    "    2. AdaBoost and GradientBoost has relatively better result than RandomForest.  GradientBoost is chosen in this assignment.\n",
    "    "
   ]
  },
  {
   "cell_type": "markdown",
   "metadata": {},
   "source": [
    "# Data Preprocessing"
   ]
  },
  {
   "cell_type": "markdown",
   "metadata": {},
   "source": [
    "## 1. Drop Duplicated Feature - Education"
   ]
  },
  {
   "cell_type": "code",
   "execution_count": 16,
   "metadata": {},
   "outputs": [
    {
     "name": "stdout",
     "output_type": "stream",
     "text": [
      "       age  workclass  fnlwgt  education-num  Marital-status  occupation  \\\n",
      "0       24          4  258298             11               4          13   \n",
      "1       28          4  208249             10               0          13   \n",
      "2       49          4  143459              5               5           6   \n",
      "3       24          4  228772              3               4           7   \n",
      "4       20          7   41103             10               4           8   \n",
      "5       24          4   89154              5               4           8   \n",
      "6       57          4  157749             10               2           3   \n",
      "7       30          4  202046              9               4           1   \n",
      "8       40          4  163434             10               2           6   \n",
      "9       20          4  180339              9               4           8   \n",
      "10      53          0  237868              9               2           0   \n",
      "11      51          4  120173             11               2           3   \n",
      "12      22          4  264738              9               4           4   \n",
      "13      18          0  269373              8               4           0   \n",
      "14      27          7   31935             10               4          13   \n",
      "15      56          6  177368             10               2          11   \n",
      "16      50          4  301583              9               4           7   \n",
      "17      27          4  122913              4               2          14   \n",
      "18      46          4  241935              7               2           8   \n",
      "19      37          2  174924             10               0          11   \n",
      "20      32          4  143604              6               3           8   \n",
      "21      29          4  499197             10               2          10   \n",
      "22      35          4   51700             10               4          14   \n",
      "23      58          4  127264              6               2           3   \n",
      "24      50          7  139157             14               0          10   \n",
      "25      37          2   44694             14               2          10   \n",
      "26      36          6   60269             13               2          12   \n",
      "27      48          2   85341             13               2          10   \n",
      "28      46          4  353824             12               4           1   \n",
      "29      34          7  334422             10               0          11   \n",
      "...    ...        ...     ...            ...             ...         ...   \n",
      "34159   28          7  255254             13               2          10   \n",
      "34160   41          6  136986             10               4           3   \n",
      "34161   19          4  101509             10               4          10   \n",
      "34162   64          4  183672             11               2           1   \n",
      "34163   35          4  166193              9               0           7   \n",
      "34164   31          7   55849             10               4           3   \n",
      "34165   24          4  100321             13               2          10   \n",
      "34166   49          6  164495             12               2           4   \n",
      "34167   67          0   46449             13               2           0   \n",
      "34168   17          4  295308              7               4           9   \n",
      "34169   64          4  221343              2               0           9   \n",
      "34170   46          1  213140             14               2           4   \n",
      "34171   24          6  375313             10               4          10   \n",
      "34172   53          5  135643             13               2           1   \n",
      "34173   35          4   54363             12               2           4   \n",
      "34174   48          4  265083              6               0          12   \n",
      "34175   40          6  162312              9               2           3   \n",
      "34176   49          4  163229              9               0           3   \n",
      "34177   51          5   98642              9               0           4   \n",
      "34178   37          2  217689             10               2           8   \n",
      "34179   41          4  135056             14               6          10   \n",
      "34180   20          0  259865             10               4           0   \n",
      "34181   55          4  221801              3               2           7   \n",
      "34182   21          0  202214             10               4           0   \n",
      "34183   38          4  337130              2               3           3   \n",
      "34184   46          6  456956              9               2          10   \n",
      "34185   47          4  182054              9               4           7   \n",
      "34186   38          4  236391              9               2           3   \n",
      "34187   36          4   48976             13               2          12   \n",
      "34188   29          4  168470              9               4          14   \n",
      "\n",
      "       relationship  race  sex  capital-gain  capital-loss  hours-per-week  \\\n",
      "0                 1     4    1             0             0              45   \n",
      "1                 1     4    1             0             0              24   \n",
      "2                 3     4    1             0             0              38   \n",
      "3                 2     4    0             0             0              40   \n",
      "4                 3     4    0             0             0              20   \n",
      "5                 1     4    1             0             0              40   \n",
      "6                 0     4    1             0             0              40   \n",
      "7                 1     4    1             0             0              20   \n",
      "8                 0     4    1             0             0              40   \n",
      "9                 2     4    0             0             0              35   \n",
      "10                0     4    1             0             0              35   \n",
      "11                0     4    1          3103             0              50   \n",
      "12                2     4    0             0             0              42   \n",
      "13                3     4    0             0             0              20   \n",
      "14                3     4    0             0             0              80   \n",
      "15                0     4    1             0             0              50   \n",
      "16                1     4    1             0             0              40   \n",
      "17                0     4    1             0             0              40   \n",
      "18                0     2    1          7688             0              40   \n",
      "19                4     4    1             0             0              48   \n",
      "20                1     2    0             0             0              37   \n",
      "21                0     4    1             0             0              40   \n",
      "22                1     4    1             0             0              40   \n",
      "23                0     4    1             0             0              50   \n",
      "24                1     4    1             0             0              60   \n",
      "25                5     4    0             0             0              45   \n",
      "26                0     4    1             0             0              40   \n",
      "27                0     4    1             0             0              45   \n",
      "28                1     4    1             0             0              40   \n",
      "29                4     2    1             0             0              47   \n",
      "...             ...   ...  ...           ...           ...             ...   \n",
      "34159             5     2    0             0             0              37   \n",
      "34160             1     4    1             0             0              40   \n",
      "34161             3     4    1             0             0              32   \n",
      "34162             0     4    1             0             0              50   \n",
      "34163             3     4    1             0             0              40   \n",
      "34164             1     4    1             0             0              40   \n",
      "34165             0     4    1             0             0              45   \n",
      "34166             0     4    1             0             0              35   \n",
      "34167             0     4    1             0             0              10   \n",
      "34168             3     4    0             0             0              20   \n",
      "34169             1     4    0             0             0              12   \n",
      "34170             0     4    1             0          1977              40   \n",
      "34171             1     1    1             0             0              40   \n",
      "34172             5     1    0             0             0              50   \n",
      "34173             0     4    1             0             0              50   \n",
      "34174             1     4    0             0             0              38   \n",
      "34175             0     1    1             0             0              66   \n",
      "34176             1     4    1             0             0              50   \n",
      "34177             1     4    1         14084             0              40   \n",
      "34178             0     0    1             0             0              32   \n",
      "34179             1     4    0         10520             0              38   \n",
      "34180             3     4    0             0             0              25   \n",
      "34181             0     4    1             0             0              40   \n",
      "34182             3     4    0             0          1721              40   \n",
      "34183             1     4    1             0             0              40   \n",
      "34184             0     4    1             0             0              60   \n",
      "34185             1     4    1             0             0              40   \n",
      "34186             0     4    1             0             0              45   \n",
      "34187             5     4    0             0             0              40   \n",
      "34188             3     4    1             0             0              40   \n",
      "\n",
      "       native-country  \n",
      "0                  39  \n",
      "1                  39  \n",
      "2                  39  \n",
      "3                  26  \n",
      "4                  39  \n",
      "5                   8  \n",
      "6                  39  \n",
      "7                  39  \n",
      "8                  39  \n",
      "9                  39  \n",
      "10                 39  \n",
      "11                 39  \n",
      "12                 11  \n",
      "13                 39  \n",
      "14                 39  \n",
      "15                 39  \n",
      "16                 39  \n",
      "17                 39  \n",
      "18                 39  \n",
      "19                 11  \n",
      "20                 39  \n",
      "21                 39  \n",
      "22                 39  \n",
      "23                 39  \n",
      "24                 39  \n",
      "25                 39  \n",
      "26                 39  \n",
      "27                 39  \n",
      "28                 39  \n",
      "29                 39  \n",
      "...               ...  \n",
      "34159              39  \n",
      "34160              39  \n",
      "34161              39  \n",
      "34162              39  \n",
      "34163              39  \n",
      "34164              39  \n",
      "34165              39  \n",
      "34166              11  \n",
      "34167              39  \n",
      "34168              39  \n",
      "34169              39  \n",
      "34170              39  \n",
      "34171              39  \n",
      "34172              35  \n",
      "34173              39  \n",
      "34174              39  \n",
      "34175              35  \n",
      "34176              39  \n",
      "34177              39  \n",
      "34178              39  \n",
      "34179              39  \n",
      "34180              26  \n",
      "34181              39  \n",
      "34182              39  \n",
      "34183              26  \n",
      "34184              39  \n",
      "34185              39  \n",
      "34186              39  \n",
      "34187              39  \n",
      "34188              39  \n",
      "\n",
      "[34189 rows x 13 columns]\n"
     ]
    }
   ],
   "source": [
    "train_features_transform1 = train_features.copy()\n",
    "train_features_transform1=train_features_transform1.drop('education', axis=1)\n",
    "\n",
    "print(train_features_transform1)"
   ]
  },
  {
   "cell_type": "code",
   "execution_count": 17,
   "metadata": {},
   "outputs": [
    {
     "name": "stdout",
     "output_type": "stream",
     "text": [
      "0 Fold:: Training Accuracy: 0.860809, Test Accuracy: 0.861070\n",
      "1 Fold:: Training Accuracy: 0.860224, Test Accuracy: 0.863849\n",
      "2 Fold:: Training Accuracy: 0.862638, Test Accuracy: 0.857414\n",
      "3 Fold:: Training Accuracy: 0.861468, Test Accuracy: 0.858731\n",
      "4 Fold:: Training Accuracy: 0.861326, Test Accuracy: 0.859002\n",
      "GradientBoostingClassifier:\n",
      "Average Training Accuracy : 0.861293\n",
      "Average Test Accuracy : 0.860013\n",
      "======================================================================\n"
     ]
    }
   ],
   "source": [
    "# GradientBoostingClassifier\n",
    "cv = 0\n",
    "accum_test_accuracy = 0\n",
    "accum_train_accuracy = 0\n",
    "\n",
    "for tr, tst in kf.split(train_features_transform1):\n",
    "    #print(\"TRAIN:\", tr, \"TEST:\", tst)\n",
    "    #Train Test Split\n",
    "    training_x, test_x = train_features_transform1.iloc[tr], train_features_transform1.iloc[tst]\n",
    "    training_y, test_y = train_labels.iloc[tr], train_labels.iloc[tst]\n",
    "\n",
    "    rf = AdaBoostClassifier()\n",
    "    rf.fit(training_x,training_y.values.ravel())\n",
    "\n",
    "    # Measuring training and test accuracy\n",
    "    tr_accuracy = rf.score(training_x,training_y)\n",
    "    test_accuracy = rf.score(test_x, test_y)\n",
    "\n",
    "    print (\"%d Fold:: Training Accuracy: %3f, Test Accuracy: %3f\" % (\n",
    "        cv, tr_accuracy, test_accuracy))\n",
    "    accum_test_accuracy += test_accuracy\n",
    "    accum_train_accuracy += tr_accuracy\n",
    "    cv += 1\n",
    "\n",
    "print (\"GradientBoostingClassifier:\")\n",
    "print (\"Average Training Accuracy : %3f\" % (accum_train_accuracy/num_folds))\n",
    "print (\"Average Test Accuracy : %3f\" % (accum_test_accuracy/num_folds))\n",
    "print (70 * '=')"
   ]
  },
  {
   "cell_type": "markdown",
   "metadata": {},
   "source": [
    "## 2. Categorize Working Hour"
   ]
  },
  {
   "cell_type": "code",
   "execution_count": 18,
   "metadata": {
    "collapsed": true
   },
   "outputs": [],
   "source": [
    "# Categorize working hour, based on the quantile information\n",
    "# 0 : <40\n",
    "# 1 : 40-45\n",
    "# 2 : 46-60\n",
    "# 3 : 60-80\n",
    "# 4 : >80\n",
    "\n",
    "train_features_transform2 = train_features.copy()\n",
    "bins = [0, 40, 45, 60, 80, np.inf]\n",
    "names = ['0', '1', '2', '3', '4']\n",
    "\n",
    "train_features_transform2['hours-per-week'] = pd.cut(train_features_transform1['hours-per-week'], bins, labels=False)"
   ]
  },
  {
   "cell_type": "code",
   "execution_count": 19,
   "metadata": {},
   "outputs": [
    {
     "name": "stdout",
     "output_type": "stream",
     "text": [
      "0 Fold:: Training Accuracy: 0.859201, Test Accuracy: 0.863118\n",
      "1 Fold:: Training Accuracy: 0.860334, Test Accuracy: 0.855513\n",
      "2 Fold:: Training Accuracy: 0.860151, Test Accuracy: 0.858292\n",
      "3 Fold:: Training Accuracy: 0.860590, Test Accuracy: 0.859316\n",
      "4 Fold:: Training Accuracy: 0.859389, Test Accuracy: 0.858417\n",
      "GradientBoostingClassifier:\n",
      "Average Training Accuracy : 0.859933\n",
      "Average Test Accuracy : 0.858931\n",
      "======================================================================\n"
     ]
    }
   ],
   "source": [
    "# GradientBoostingClassifier\n",
    "cv = 0\n",
    "accum_test_accuracy = 0\n",
    "accum_train_accuracy = 0\n",
    "\n",
    "for tr, tst in kf.split(train_features_transform2):\n",
    "    #print(\"TRAIN:\", tr, \"TEST:\", tst)\n",
    "    #Train Test Split\n",
    "    training_x, test_x = train_features_transform2.iloc[tr], train_features_transform2.iloc[tst]\n",
    "    training_y, test_y = train_labels.iloc[tr], train_labels.iloc[tst]\n",
    "\n",
    "    rf = AdaBoostClassifier()\n",
    "    rf.fit(training_x,training_y.values.ravel())\n",
    "\n",
    "    # Measuring training and test accuracy\n",
    "    tr_accuracy = rf.score(training_x,training_y)\n",
    "    test_accuracy = rf.score(test_x, test_y)\n",
    "\n",
    "    print (\"%d Fold:: Training Accuracy: %3f, Test Accuracy: %3f\" % (\n",
    "        cv, tr_accuracy, test_accuracy))\n",
    "    accum_test_accuracy += test_accuracy\n",
    "    accum_train_accuracy += tr_accuracy\n",
    "    cv += 1\n",
    "\n",
    "print (\"GradientBoostingClassifier:\")\n",
    "print (\"Average Training Accuracy : %3f\" % (accum_train_accuracy/num_folds))\n",
    "print (\"Average Test Accuracy : %3f\" % (accum_test_accuracy/num_folds))\n",
    "print (70 * '=')"
   ]
  },
  {
   "cell_type": "markdown",
   "metadata": {},
   "source": [
    "## 3. Categorize Capital - High/Medium/Low"
   ]
  },
  {
   "cell_type": "code",
   "execution_count": 20,
   "metadata": {},
   "outputs": [
    {
     "name": "stdout",
     "output_type": "stream",
     "text": [
      "[   114.   3411.  13550.  99999.]\n",
      "[  155.  1672.  1977.  4356.]\n"
     ]
    }
   ],
   "source": [
    "# Find 0, 25, 75, 100% quantile for capital-gain\n",
    "print(np.percentile(train_features_transform2[train_features_transform2['capital-gain']>0]['capital-gain'], [0,25, 75,100]))\n",
    "# Find 0, 25, 75, 100% quantile for capital-loss\n",
    "print(np.percentile(train_features_transform2[train_features_transform2['capital-loss']>0]['capital-loss'], [0,25, 75,100]))"
   ]
  },
  {
   "cell_type": "code",
   "execution_count": 21,
   "metadata": {
    "collapsed": true
   },
   "outputs": [],
   "source": [
    "train_features_transform3 = train_features.copy()\n",
    "\n",
    "bins2=[  -1,  3411, 13550, 99999]\n",
    "train_features_transform3['capital-gain'] = pd.cut(train_features_transform2['capital-gain'], bins2, labels=False)\n",
    "bins3=[ -1, 1672, 1977, 4356]\n",
    "train_features_transform3['capital-loss'] = pd.cut(train_features_transform2['capital-loss'], bins3, labels=False)"
   ]
  },
  {
   "cell_type": "code",
   "execution_count": 22,
   "metadata": {},
   "outputs": [
    {
     "name": "stdout",
     "output_type": "stream",
     "text": [
      "0 Fold:: Training Accuracy: 0.853863, Test Accuracy: 0.852442\n",
      "1 Fold:: Training Accuracy: 0.854448, Test Accuracy: 0.851857\n",
      "2 Fold:: Training Accuracy: 0.851852, Test Accuracy: 0.853466\n",
      "3 Fold:: Training Accuracy: 0.851852, Test Accuracy: 0.855075\n",
      "4 Fold:: Training Accuracy: 0.854599, Test Accuracy: 0.849349\n",
      "GradientBoostingClassifier:\n",
      "Average Training Accuracy : 0.853323\n",
      "Average Test Accuracy : 0.852438\n",
      "======================================================================\n"
     ]
    }
   ],
   "source": [
    "# GradientBoostingClassifier\n",
    "cv = 0\n",
    "accum_test_accuracy = 0\n",
    "accum_train_accuracy = 0\n",
    "\n",
    "for tr, tst in kf.split(train_features_transform3):\n",
    "    #print(\"TRAIN:\", tr, \"TEST:\", tst)\n",
    "    #Train Test Split\n",
    "    training_x, test_x = train_features_transform3.iloc[tr], train_features_transform3.iloc[tst]\n",
    "    training_y, test_y = train_labels.iloc[tr], train_labels.iloc[tst]\n",
    "\n",
    "    rf = AdaBoostClassifier()\n",
    "    rf.fit(training_x,training_y.values.ravel())\n",
    "\n",
    "    # Measuring training and test accuracy\n",
    "    tr_accuracy = rf.score(training_x,training_y)\n",
    "    test_accuracy = rf.score(test_x, test_y)\n",
    "\n",
    "    print (\"%d Fold:: Training Accuracy: %3f, Test Accuracy: %3f\" % (\n",
    "        cv, tr_accuracy, test_accuracy))\n",
    "    accum_test_accuracy += test_accuracy\n",
    "    accum_train_accuracy += tr_accuracy\n",
    "    cv += 1\n",
    "\n",
    "print (\"GradientBoostingClassifier:\")\n",
    "print (\"Average Training Accuracy : %3f\" % (accum_train_accuracy/num_folds))\n",
    "print (\"Average Test Accuracy : %3f\" % (accum_test_accuracy/num_folds))\n",
    "print (70 * '=')"
   ]
  },
  {
   "cell_type": "markdown",
   "metadata": {},
   "source": [
    "## 4. Split and Scale"
   ]
  },
  {
   "cell_type": "code",
   "execution_count": 23,
   "metadata": {
    "collapsed": true
   },
   "outputs": [],
   "source": [
    "train_features_transform4 = train_features.copy()\n",
    "scaler = preprocessing.StandardScaler()\n",
    "\n",
    "train_features_transform4[['age']] = scaler.fit_transform(train_features_transform4[['age']])\n",
    "train_features_transform4[['fnlwgt']] = scaler.fit_transform(train_features_transform4[['fnlwgt']])\n",
    "train_features_transform4[['capital-gain']] = scaler.fit_transform(train_features_transform4[['capital-gain']])\n",
    "train_features_transform4[['capital-loss']] = scaler.fit_transform(train_features_transform4[['capital-loss']])\n",
    "train_features_transform4[['hours-per-week']] = scaler.fit_transform(train_features_transform4[['hours-per-week']])"
   ]
  },
  {
   "cell_type": "code",
   "execution_count": 24,
   "metadata": {},
   "outputs": [
    {
     "name": "stdout",
     "output_type": "stream",
     "text": [
      "0 Fold:: Training Accuracy: 0.860151, Test Accuracy: 0.860486\n",
      "1 Fold:: Training Accuracy: 0.862272, Test Accuracy: 0.856391\n",
      "2 Fold:: Training Accuracy: 0.859822, Test Accuracy: 0.860193\n",
      "3 Fold:: Training Accuracy: 0.860919, Test Accuracy: 0.860193\n",
      "4 Fold:: Training Accuracy: 0.858621, Test Accuracy: 0.863975\n",
      "GradientBoostingClassifier:\n",
      "Average Training Accuracy : 0.860357\n",
      "Average Test Accuracy : 0.860248\n",
      "======================================================================\n"
     ]
    }
   ],
   "source": [
    "# GradientBoostingClassifier\n",
    "cv = 0\n",
    "accum_test_accuracy = 0\n",
    "accum_train_accuracy = 0\n",
    "\n",
    "for tr, tst in kf.split(train_features_transform4):\n",
    "    #print(\"TRAIN:\", tr, \"TEST:\", tst)\n",
    "    #Train Test Split\n",
    "    training_x, test_x = train_features_transform4.iloc[tr], train_features_transform4.iloc[tst]\n",
    "    training_y, test_y = train_labels.iloc[tr], train_labels.iloc[tst]\n",
    "\n",
    "    rf = AdaBoostClassifier()\n",
    "    rf.fit(training_x,training_y.values.ravel())\n",
    "\n",
    "    # Measuring training and test accuracy\n",
    "    tr_accuracy = rf.score(training_x,training_y)\n",
    "    test_accuracy = rf.score(test_x, test_y)\n",
    "\n",
    "    print (\"%d Fold:: Training Accuracy: %3f, Test Accuracy: %3f\" % (\n",
    "        cv, tr_accuracy, test_accuracy))\n",
    "    accum_test_accuracy += test_accuracy\n",
    "    accum_train_accuracy += tr_accuracy\n",
    "    cv += 1\n",
    "\n",
    "print (\"GradientBoostingClassifier:\")\n",
    "print (\"Average Training Accuracy : %3f\" % (accum_train_accuracy/num_folds))\n",
    "print (\"Average Test Accuracy : %3f\" % (accum_test_accuracy/num_folds))\n",
    "print (70 * '=')"
   ]
  },
  {
   "cell_type": "markdown",
   "metadata": {},
   "source": [
    "## Conclusion"
   ]
  },
  {
   "cell_type": "markdown",
   "metadata": {},
   "source": [
    "Categorizing working hour and capital gain/loss worsen the accuracy.  Therefore these two data pre-processing should not be taken.\n",
    "In the final decision, I am going to drop the duplicated feature Education and scale the numeric values."
   ]
  },
  {
   "cell_type": "code",
   "execution_count": 25,
   "metadata": {
    "collapsed": true
   },
   "outputs": [],
   "source": [
    "train_features_final = train_features.copy()\n",
    "train_features_final=train_features_final.drop('education', axis=1)\n",
    "\n",
    "scaler = preprocessing.StandardScaler()\n",
    "\n",
    "train_features_final[['age']] = scaler.fit_transform(train_features_final[['age']])\n",
    "train_features_final[['fnlwgt']] = scaler.fit_transform(train_features_final[['fnlwgt']])\n",
    "train_features_final[['capital-gain']] = scaler.fit_transform(train_features_final[['capital-gain']])\n",
    "train_features_final[['capital-loss']] = scaler.fit_transform(train_features_final[['capital-loss']])\n",
    "train_features_final[['hours-per-week']] = scaler.fit_transform(train_features_final[['hours-per-week']])"
   ]
  },
  {
   "cell_type": "code",
   "execution_count": 28,
   "metadata": {},
   "outputs": [
    {
     "name": "stdout",
     "output_type": "stream",
     "text": [
      "0 Fold:: Training Accuracy: 0.862053, Test Accuracy: 0.861509\n",
      "1 Fold:: Training Accuracy: 0.859566, Test Accuracy: 0.860047\n",
      "2 Fold:: Training Accuracy: 0.860042, Test Accuracy: 0.864142\n",
      "3 Fold:: Training Accuracy: 0.861065, Test Accuracy: 0.857561\n",
      "4 Fold:: Training Accuracy: 0.860083, Test Accuracy: 0.862220\n",
      "GradientBoostingClassifier:\n",
      "Average Training Accuracy : 0.860562\n",
      "Average Test Accuracy : 0.861096\n",
      "======================================================================\n"
     ]
    }
   ],
   "source": [
    "# GradientBoostingClassifier\n",
    "cv = 0\n",
    "accum_test_accuracy = 0\n",
    "accum_train_accuracy = 0\n",
    "\n",
    "for tr, tst in kf.split(train_features_final):\n",
    "    #print(\"TRAIN:\", tr, \"TEST:\", tst)\n",
    "    #Train Test Split\n",
    "    training_x, test_x = train_features_final.iloc[tr], train_features_final.iloc[tst]\n",
    "    training_y, test_y = train_labels.iloc[tr], train_labels.iloc[tst]\n",
    "\n",
    "    rf = AdaBoostClassifier()\n",
    "    rf.fit(training_x,training_y.values.ravel())\n",
    "\n",
    "    # Measuring training and test accuracy\n",
    "    tr_accuracy = rf.score(training_x,training_y)\n",
    "    test_accuracy = rf.score(test_x, test_y)\n",
    "\n",
    "    print (\"%d Fold:: Training Accuracy: %3f, Test Accuracy: %3f\" % (\n",
    "        cv, tr_accuracy, test_accuracy))\n",
    "    accum_test_accuracy += test_accuracy\n",
    "    accum_train_accuracy += tr_accuracy\n",
    "    cv += 1\n",
    "\n",
    "print (\"GradientBoostingClassifier:\")\n",
    "print (\"Average Training Accuracy : %3f\" % (accum_train_accuracy/num_folds))\n",
    "print (\"Average Test Accuracy : %3f\" % (accum_test_accuracy/num_folds))\n",
    "print (70 * '=')"
   ]
  },
  {
   "cell_type": "markdown",
   "metadata": {},
   "source": [
    "# Predict"
   ]
  },
  {
   "cell_type": "code",
   "execution_count": 29,
   "metadata": {
    "collapsed": true
   },
   "outputs": [],
   "source": [
    "test_features[['workclass']]=test_features[['workclass']].apply(preprocessing.LabelEncoder().fit_transform)\n",
    "test_features[['Marital-status']]=test_features[['Marital-status']].apply(preprocessing.LabelEncoder().fit_transform)\n",
    "test_features[['occupation']]=test_features[['occupation']].apply(preprocessing.LabelEncoder().fit_transform)\n",
    "test_features[['relationship']]=test_features[['relationship']].apply(preprocessing.LabelEncoder().fit_transform)\n",
    "test_features[['race']]=test_features[['race']].apply(preprocessing.LabelEncoder().fit_transform)\n",
    "test_features[['sex']]=test_features[['sex']].apply(preprocessing.LabelEncoder().fit_transform)\n",
    "test_features[['native-country']]=test_features[['native-country']].apply(preprocessing.LabelEncoder().fit_transform)\n",
    "test_features=test_features.drop('education', axis=1)\n",
    "\n",
    "scaler = preprocessing.StandardScaler()\n",
    "\n",
    "test_features[['age']] = scaler.fit_transform(test_features[['age']])\n",
    "test_features[['fnlwgt']] = scaler.fit_transform(test_features[['fnlwgt']])\n",
    "test_features[['capital-gain']] = scaler.fit_transform(test_features[['capital-gain']])\n",
    "test_features[['capital-loss']] = scaler.fit_transform(test_features[['capital-loss']])\n",
    "test_features[['hours-per-week']] = scaler.fit_transform(test_features[['hours-per-week']])"
   ]
  },
  {
   "cell_type": "code",
   "execution_count": 61,
   "metadata": {
    "collapsed": true
   },
   "outputs": [],
   "source": [
    "predict_labels = rf.predict(test_features)\n",
    "np.savetxt('data/sampleSubmission.csv', predict_labels, delimiter='\\n',fmt='%d')"
   ]
  }
 ],
 "metadata": {
  "kernelspec": {
   "display_name": "Python 3",
   "language": "python",
   "name": "python3"
  },
  "language_info": {
   "codemirror_mode": {
    "name": "ipython",
    "version": 3
   },
   "file_extension": ".py",
   "mimetype": "text/x-python",
   "name": "python",
   "nbconvert_exporter": "python",
   "pygments_lexer": "ipython3",
   "version": "3.6.3"
  }
 },
 "nbformat": 4,
 "nbformat_minor": 2
}
